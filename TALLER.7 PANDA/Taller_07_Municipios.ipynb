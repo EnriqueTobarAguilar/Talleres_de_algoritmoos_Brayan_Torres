{
  "nbformat": 4,
  "nbformat_minor": 0,
  "metadata": {
    "colab": {
      "provenance": [],
      "collapsed_sections": [
        "vOOIp3R-wJK2"
      ]
    },
    "kernelspec": {
      "name": "python3",
      "display_name": "Python 3"
    }
  },
  "cells": [
    {
      "cell_type": "markdown",
      "metadata": {
        "id": "xGiqRO9PpY2H"
      },
      "source": [
        "<h1 align=\"center\">\n",
        "Taller 07 - Operaciones con Listas\n",
        "</h1>"
      ]
    },
    {
      "cell_type": "code",
      "metadata": {
        "id": "sAj0u0Uto2i5",
        "colab": {
          "base_uri": "https://localhost:8080/"
        },
        "outputId": "19eb4a49-6800-4f2d-b4db-0e80beaba24e"
      },
      "source": [
        "# Preparación de los datos para los ejercicios\n",
        "import pandas as pd\n",
        "\n",
        "url = 'https://raw.githubusercontent.com/BrayanTorres2/POO_2022_C1/main/municipios.csv'\n",
        "df = pd.read_csv(url)\n",
        "municipios = []\n",
        "\n",
        "for (_, m) in df.iterrows():\n",
        "    mun = (m[0], m[1], m[2], m[3], m[4], False if m[5] == 0 else True)\n",
        "    municipios.append(mun)\n",
        "print('Cantidad de municipios', len(municipios))"
      ],
      "execution_count": 2,
      "outputs": [
        {
          "output_type": "stream",
          "name": "stdout",
          "text": [
            "Cantidad de municipios 1122\n"
          ]
        }
      ]
    },
    {
      "cell_type": "markdown",
      "metadata": {
        "id": "vOOIp3R-wJK2"
      },
      "source": [
        "## La información de los municipios\n",
        "\n",
        "Tenemos la información de todos los municipios de colombia en una lista de tuplas con la siguiente conformación:\n",
        "\n",
        "* El primer elemento es el código del municipio, un número\n",
        "* El segundo elemento es el nombre del municipio\n",
        "* El tercer elemento es la población urbana del municipio\n",
        "* El cuarto elemento es la población rural del municipio\n",
        "* El quinto elemento es el nombre del departamento donde esta el municipio\n",
        "* El sexto elemento es **True** si el municipio es la capital del departamento y **False** si no se trata de la capital del departamento."
      ]
    },
    {
      "cell_type": "markdown",
      "metadata": {
        "id": "MVX5wO8sw-Gh"
      },
      "source": [
        "---\n",
        "\n",
        "## Ejercicio 01\n",
        "\n",
        "Escriba una función que reciba la lista de municipios como dato de entrada, así como el nombre de un departamento y que retorne cuántos municipios de la lista pertenecen a ese departamento."
      ]
    },
    {
      "cell_type": "code",
      "metadata": {
        "colab": {
          "base_uri": "https://localhost:8080/"
        },
        "id": "PEmVsxmzuM38",
        "outputId": "e0dd17e3-96bc-4fae-ce53-4e58f42fc313"
      },
      "source": [
        "def ejercicio01(muns: [(int, str, int, int, str, bool)], nomdepto: str) -> int:\n",
        "    c = 0\n",
        "    for codi,nombre,pu,pr,departamento,es in muns:\n",
        "      if(departamento==nomdepto):\n",
        "        c=c+1\n",
        "\n",
        "    return c\n",
        "\n",
        "# ----------------------------------------------------------------------------\n",
        "# Pruebas\n",
        "assert ejercicio01(municipios, 'Amazonas') == 11\n",
        "assert ejercicio01(municipios, 'Boyacá') == 123\n",
        "print('Prueba superada 😎')"
      ],
      "execution_count": 25,
      "outputs": [
        {
          "output_type": "stream",
          "name": "stdout",
          "text": [
            "Prueba superada 😎\n"
          ]
        }
      ]
    },
    {
      "cell_type": "markdown",
      "metadata": {
        "id": "5WNqTarK-J6r"
      },
      "source": [
        "## Ejercicio 02\n",
        "\n",
        "Dada una lista con los municipio de Colombia, retorne una lista con los nombres de los municipios que no tienen población urbana."
      ]
    },
    {
      "cell_type": "code",
      "metadata": {
        "colab": {
          "base_uri": "https://localhost:8080/"
        },
        "id": "SGmVOQATxz82",
        "outputId": "d59e5bb3-4c7c-4303-8546-f2426491383c"
      },
      "source": [
        "def ejercicio02(municipios: [(int, str, int, int, str, bool)]) -> [str]:\n",
        "    resultado = []\n",
        "    for codi,nombre,pu,pr,departamento,es in municipios:\n",
        "      if(pu==0):\n",
        "        resultado.append(nombre)\n",
        "    return resultado\n",
        "\n",
        "# Prueba del ejercicio 02\n",
        "noms = ejercicio02(municipios)\n",
        "noms.sort()\n",
        "assert noms == ['Barranco Minas', 'Cacahual', 'El Encanto', 'La Chorrera', 'La Guadalupe', 'La Pedrera', 'La Victoria', 'Mapiripana', 'Mirití-Paraná', 'Morichal Nuevo', 'Pacoa', 'Pana Pana', 'Papunaua', 'Puerto Alegría', 'Puerto Arica', 'Puerto Colombia', 'Puerto Santander', 'San Felipe', 'Tarapacá', 'Yavaraté']\n",
        "print(\"Prueba superada 👍\")"
      ],
      "execution_count": 9,
      "outputs": [
        {
          "output_type": "stream",
          "name": "stdout",
          "text": [
            "Prueba superada 👍\n"
          ]
        }
      ]
    },
    {
      "cell_type": "markdown",
      "metadata": {
        "id": "Iop_-nwpAKHP"
      },
      "source": [
        "## Ejercicio 03\n",
        "\n",
        "Escriba una función en Python que reciba la lista con la información de todos los municipios de Colombia, y el nombre de un departamento, y que retorne la suma de la población urbana de todos los municipios de ese departamento, así como la cantidad de municipios que pertenecen a ese departamento también."
      ]
    },
    {
      "cell_type": "code",
      "metadata": {
        "colab": {
          "base_uri": "https://localhost:8080/"
        },
        "id": "n4lYS5hR_eAd",
        "outputId": "290da4ae-f82a-4231-b9a7-74462e00d891"
      },
      "source": [
        "def ejercicio03(municipios: [(int, str, int, int, str, bool)], dpto: str) -> (int, int):\n",
        "    suma = 0\n",
        "    cont = 0\n",
        "    for i,m,u,r,d,x in municipios:\n",
        "      if(dpto==d):\n",
        "        cont+=1\n",
        "        suma=suma+u\n",
        "    return (suma, cont)\n",
        "\n",
        "# Prueba de la función 03\n",
        "assert ejercicio03(municipios, \"La Guajira\") == (552_638, 15)\n",
        "assert ejercicio03(municipios, \"Huila\") == (703_936, 37)\n",
        "assert ejercicio03(municipios, \"Atlántico\") == (2_408_093, 23)\n",
        "assert ejercicio03(municipios, \"Antioquia\") == (5_181_668, 125)\n",
        "print(\"Prueba superada 👍\")"
      ],
      "execution_count": 4,
      "outputs": [
        {
          "output_type": "stream",
          "name": "stdout",
          "text": [
            "Prueba superada 👍\n"
          ]
        }
      ]
    },
    {
      "cell_type": "markdown",
      "metadata": {
        "id": "qw57ZixBCtmg"
      },
      "source": [
        "## Ejercicio 04\n",
        "\n",
        "Escriba una función que reciba la lista con la información de todos los municipios del país y el código de un municipio y que retorne el nombre y el departamento del municipio que tiene ese código. Si no existe ese código, deberá retornar el mensaje \"no existe\"."
      ]
    },
    {
      "cell_type": "code",
      "metadata": {
        "colab": {
          "base_uri": "https://localhost:8080/"
        },
        "id": "KQlwWG7LBgQs",
        "outputId": "64173e99-e355-472e-e94a-59433e5fd004"
      },
      "source": [
        "def ejercicio04(municipios: [(int, str, int, int, str, bool)], codigo: int) -> (str, str):\n",
        "    infor=[]\n",
        "    for a,b ,c ,d ,e ,f  in municipios:\n",
        "        if (a==codigo):\n",
        "            infor.append(b)\n",
        "            infor.append(e)\n",
        "            x=tuple(infor)\n",
        "        if(codigo>=1222):\n",
        "          x='no existe'\n",
        "    return x\n",
        "    #return \"no existe (x)\"\n",
        "\n",
        "# Prueba de la función ejercicio 04\n",
        "assert (ejercicio04(municipios, 438)) == ('Caloto', 'Cauca')\n",
        "assert (ejercicio04(municipios, 7)) == ('Soledad', 'Atlántico')\n",
        "assert (ejercicio04(municipios, 1024)) == ('Alejandría', 'Antioquia')\n",
        "assert (ejercicio04(municipios, 819)) == ('Barichara', 'Santander')\n",
        "assert (ejercicio04(municipios, 1819)) == 'no existe'\n",
        "print(\"Prueba superada 👍\")"
      ],
      "execution_count": 15,
      "outputs": [
        {
          "output_type": "stream",
          "name": "stdout",
          "text": [
            "Prueba superada 👍\n"
          ]
        }
      ]
    },
    {
      "cell_type": "markdown",
      "metadata": {
        "id": "k-SLqWpdF1ie"
      },
      "source": [
        "## Ejercicio 05\n",
        "\n",
        "Escriba una función en Python que reciba una lista con la información de todos los municipios de Colombia y que halle el porcentaje de municipios de la lista que son capitales y cuya población urbana supera el millón de habitantes."
      ]
    },
    {
      "cell_type": "code",
      "metadata": {
        "colab": {
          "base_uri": "https://localhost:8080/"
        },
        "id": "5__V2S7ZE_vl",
        "outputId": "bed4d915-0e3a-494b-ee92-594e9551a9ba"
      },
      "source": [
        "import math\n",
        "\n",
        "def ejercicio05(municipios: [(int, str, int, int, str, bool)]) -> float:\n",
        "    c = 0\n",
        "\n",
        "    lista = []\n",
        "    for i in municipios:\n",
        "        if i[5] == True:\n",
        "            c += 1\n",
        "            lista.append(i[2])\n",
        "        else:\n",
        "            c += 1\n",
        "    suma = 0\n",
        "    for k in lista:\n",
        "        if k >= 1000000:\n",
        "            suma += 1\n",
        "    porcentaje = (suma*100)/c\n",
        "    return porcentaje\n",
        "\n",
        "# Prueba de la función del ejercicio 5\n",
        "assert math.isclose(ejercicio05(municipios), 0.3565, rel_tol=1e-4)\n",
        "print(\"Prueba superada 👍\")"
      ],
      "execution_count": 26,
      "outputs": [
        {
          "output_type": "stream",
          "name": "stdout",
          "text": [
            "Prueba superada 👍\n"
          ]
        }
      ]
    },
    {
      "cell_type": "markdown",
      "metadata": {
        "id": "3PWcaddGM61l"
      },
      "source": [
        "## Ejercicio 06\n",
        "\n",
        "Escriba una función que reciba la lista con la información de todos los municipios de Colombia y el nombre de un departamento, y que retorne el nombre del municipio de ese departamento que tiene la población urbana más pequeña."
      ]
    },
    {
      "cell_type": "code",
      "metadata": {
        "colab": {
          "base_uri": "https://localhost:8080/"
        },
        "id": "8qAQ2SVlL-Rl",
        "outputId": "af34ac5d-2595-419b-d5cd-9d59252f52f7"
      },
      "source": [
        "def ejercicio06(municipios: [(int, str, int, int, str, bool)], dpto: str) -> str:\n",
        "    x=2**32\n",
        "    n=\"\"\n",
        "    for a,b,c,d,e,f in municipios:\n",
        "        if(e==dpto):\n",
        "            if(x>c):\n",
        "                x=c\n",
        "                n=b\n",
        "    return(n)\n",
        "\n",
        "# Prueba de la función del ejercicio 06\n",
        "assert (ejercicio06(municipios, 'Santander'))  == 'Jordán'\n",
        "assert (ejercicio06(municipios, 'Boyacá')) == 'Chíquiza'\n",
        "assert (ejercicio06(municipios, 'Magdalena')) == 'San Zenón'\n",
        "assert (ejercicio06(municipios, 'Cundinamarca')) == 'Fúquene'\n",
        "print(\"Prueba superada 👍\")"
      ],
      "execution_count": 23,
      "outputs": [
        {
          "output_type": "stream",
          "name": "stdout",
          "text": [
            "Prueba superada 👍\n"
          ]
        }
      ]
    },
    {
      "cell_type": "markdown",
      "metadata": {
        "id": "-7qiTQ1NPclk"
      },
      "source": [
        "## Ejercicio 07\n",
        "\n",
        "Escriba una función en Python que reciba una lista con la información de todos los municipios de Colombia y dos códigos, y que retorne la suma de la población rural de aquellos municipios cuyo código sea mayor o igual que el primer código y menor o igual que el segundo código."
      ]
    },
    {
      "cell_type": "code",
      "metadata": {
        "colab": {
          "base_uri": "https://localhost:8080/"
        },
        "id": "lr2UwOmvOBiT",
        "outputId": "270506a0-90ce-4c17-deb2-4e323e0fd318"
      },
      "source": [
        "def ejercicio07(municipios: [(int, str, int, int, str, bool)], cod1: int, cod2: int) -> int:\n",
        "    suma = 0\n",
        "    for i in municipios:\n",
        "        if cod1 <= i[0] <= cod2:\n",
        "            suma += i[3]\n",
        "    return suma\n",
        "\n",
        "# Prueba de la función del ejercicio 07\n",
        "assert (ejercicio07(municipios, 850, 960)) == 416_362\n",
        "assert (ejercicio07(municipios, 1, 10)) == 193_550\n",
        "assert (ejercicio07(municipios, 300, 400)) == 1_217_094\n",
        "print(\"Prueba superada 👍\")"
      ],
      "execution_count": 22,
      "outputs": [
        {
          "output_type": "stream",
          "name": "stdout",
          "text": [
            "Prueba superada 👍\n"
          ]
        }
      ]
    }
  ]
}