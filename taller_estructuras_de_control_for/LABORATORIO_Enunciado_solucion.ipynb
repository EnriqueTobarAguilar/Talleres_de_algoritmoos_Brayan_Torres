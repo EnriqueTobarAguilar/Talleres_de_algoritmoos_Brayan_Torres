{
  "cells": [
    {
      "cell_type": "markdown",
      "metadata": {
        "id": "2oBecbg5iAps"
      },
      "source": [
        "# Laboratorio 1"
      ]
    },
    {
      "cell_type": "markdown",
      "metadata": {
        "id": "H-_K1yIhiAp1"
      },
      "source": [
        "## Desarrollo de una herramienta analítica usando recursos nativos de Python"
      ]
    },
    {
      "cell_type": "markdown",
      "metadata": {
        "id": "rtW_UiE0iAp2"
      },
      "source": [
        "Para el desarrollo de esta actividad debes utilizar únicamente recursos nativos de Python (puedes usar librerías como `math` y `random`). Está prohibido el uso de librerías externas, a excepción de `matplotlib`. Te recomendamos leer por completo el enunciado del laboratorio antes de comenzar, de forma que tengas claro el propósito global de la actividad y puedas desarrollar tu solución apuntando a él desde el inicio."
      ]
    },
    {
      "cell_type": "markdown",
      "metadata": {
        "id": "kPf6wXEdiAp3"
      },
      "source": [
        "En algunas de las misiones encontrarás: una **versión base**, la cual indica el requerimiento mínimo de la misión; una **versión completa**, la cual indica mejoras deseables o complementos a la **versión base**. Un desarrollo aceptable del laboratorio debe satisfacer la **versión base** y un desarrollo correcto del laboratorio debe satisfacer la **versión completa**. Cumplir con el desarrollo de la **versión completa** desde un inicio hará más sencillas las misiones siguientes."
      ]
    },
    {
      "cell_type": "markdown",
      "metadata": {
        "id": "HMyzvob2iAp5"
      },
      "source": [
        "Al desarrollar este laboratorio pondrás a prueba tus habilidades para:\n",
        "\n",
        "1. Identificar y abordar preguntas de negocio y de *analytics*.\n",
        "2. Leer datos desde archivos y almacenarlos en estructuras de Python.\n",
        "3. Crear y llamar funciones.\n",
        "4. Implementar condicionales diferenciando `if`, `elif` y `else`.\n",
        "5. Implementar ciclos diferenciando el propósito de `for` y `while`."
      ]
    },
    {
      "cell_type": "markdown",
      "metadata": {
        "id": "HI0t7LuXiAp7"
      },
      "source": [
        "## Contexto: exploración del potencial para asignar becas Unialpes"
      ]
    },
    {
      "cell_type": "markdown",
      "metadata": {
        "id": "T305fmZ2iAp9"
      },
      "source": [
        "La Universidad ean se ha caracterizado por su compromiso con la generación de impacto en la sociedad a través de diferentes programas de becas. Programas como Becas para los Mejores, entre otros, han sido revolucionarios al permitir que estudiantes de bajos recursos puedan acceder a una de las universidades más prestigiosas del país."
      ]
    },
    {
      "cell_type": "markdown",
      "metadata": {
        "id": "MJGGK0ZEiAp-"
      },
      "source": [
        "Actualmente, la universidad quiere evaluar el potencial impacto que tendrían algunos programas de acción afirmativa para asignación de becas, con base en información demográfica que ha obtenido a través de encuestas a personas interesadas en becas. Se cuenta con información respecto a la edad, género, estado civil, estrato socioeconómico, región de proveniencia, desempeño académico y nivel de escolaridad de las personas encuestadas. Los encargados de diseñar el programa saben que utilizar criterios basados en este tipo de variables es un tema sensible, pero es necesario si se quieren focalizar las oportunidades en poblaciones menos representadas."
      ]
    },
    {
      "cell_type": "markdown",
      "metadata": {
        "id": "xCCY-6KJiAqA"
      },
      "source": [
        "El objetivo de este laboratorio es crear una herramienta computacional que permita a un tomador de decisiones explorar qué efecto podría tener el uso de diferentes reglas para seleccionar a los beneficiarios de las becas. Puntualmente, se espera que, para distintas reglas de selección (ej., pertenecer a cierta región, rango de edad, etc.), la herramienta ofrezca una caracterización de los potenciales beneficiarios de las becas (a partir de estadísticas descriptivas y visualizaciones), de forma que exista un sustento para elegir la regla de selección adecuada."
      ]
    },
    {
      "cell_type": "markdown",
      "metadata": {
        "id": "YM3tdsS3iAqB"
      },
      "source": [
        "## Fase 1: obtener e inspeccionar archivos"
      ]
    },
    {
      "cell_type": "markdown",
      "metadata": {
        "id": "1puh_uJniAqC"
      },
      "source": [
        "Los datos de encuestas fueron obtenidos como parte de un trabajo de campo y, por limitaciones tecnológicas, solo se cuenta con la información en archivos de texto plano (`.txt`). Cada archivo corresponde a uno de los atributos antes mencionados y están estructurados de forma que todos relacionan a las personas encuestadas en el mismo orden (i.e., en cada archivo la primera línea corresponde a un dato de la primera persona encuestada, la segunda línea corresponde a un dato de la segunda persona encuestada, etc.)."
      ]
    },
    {
      "cell_type": "markdown",
      "metadata": {
        "id": "M4yLUc8miAqD"
      },
      "source": [
        "Los archivos con los que cuentas son:\n",
        "\n",
        "* `\"edad.txt\"`: un archivo con la edad de cada persona encuestada;\n",
        "* `\"escolaridad.txt\"`: un archivo con el nivel de escolaridad de cada persona encuestada;\n",
        "* `\"estado_civil.txt\"`: un archivo con el estado civil de cada persona encuestada;\n",
        "* `\"estrato.txt\"`: un archivo con el estrato socioeconómico de cada persona encuestada;\n",
        "* `\"genero.txt\"`: un archivo con el género de cada persona encuestada;\n",
        "* `\"promedio.txt\"`: un archivo con el promedio académico de cada persona encuestada;\n",
        "* `\"region.txt\"`: un archivo con la región de proveniencia de cada persona encuestada."
      ]
    },
    {
      "cell_type": "markdown",
      "metadata": {
        "id": "clzmGMjoiAqF"
      },
      "source": [
        "### Misión 1"
      ]
    },
    {
      "cell_type": "markdown",
      "metadata": {
        "id": "WRPzo_bWiAqG"
      },
      "source": [
        "**Versión base**: utiliza métodos de lectura de archivos para guardar la información de cada archivo en una estructura de datos de Python, de manera que se respete el orden y la categoría de los datos."
      ]
    },
    {
      "cell_type": "markdown",
      "metadata": {
        "id": "iv9hx5xZiAqH"
      },
      "source": [
        "**Versión completa**: escribe una función que sea capaz de ejecutar la **versión base** y llámala dentro de un ciclo para automatizar la lectura de los archivos."
      ]
    },
    {
      "cell_type": "code",
      "execution_count": 17,
      "metadata": {
        "id": "Hc7RHCdFiAqH"
      },
      "outputs": [],
      "source": [
        "# Implementa tu respuesta en esta celda\n",
        "def analisis (id, ruta):\n",
        "    def info_edad ():\n",
        "        archivo = open(f\"{ruta}/edad.txt\", \"r\",encoding=\"UTF-8\")\n",
        "        edad = []\n",
        "        for i in archivo:\n",
        "            edad.append(int(i.strip()))\n",
        "        return edad\n",
        "\n",
        "    def info_escolaridad ():\n",
        "        archivo = open(f\"{ruta}/escolaridad.txt\", \"r\",encoding=\"UTF-8\")\n",
        "        escolaridad = []\n",
        "        for i in archivo:\n",
        "            escolaridad.append(str(i.strip()))\n",
        "        return escolaridad\n",
        "\n",
        "    def info_estado_civil ():\n",
        "        archivo = open(f\"{ruta}/estado_civil.txt\", \"r\",encoding=\"UTF-8\")\n",
        "        estado_civil = []\n",
        "        for i in archivo:\n",
        "            estado_civil.append(str(i.strip()))\n",
        "        return estado_civil\n",
        "\n",
        "    def info_estrato ():\n",
        "        archivo = open(f\"{ruta}/estrato.txt\", \"r\",encoding=\"UTF-8\")\n",
        "        estrato = []\n",
        "        for i in archivo:\n",
        "            estrato.append(int(i.strip()))\n",
        "        return estrato\n",
        "\n",
        "    def info_genero ():\n",
        "        archivo = open(f\"{ruta}/genero.txt\", \"r\",encoding=\"UTF-8\")\n",
        "        genero = []\n",
        "        for i in archivo:\n",
        "            genero.append(str(i.strip()))\n",
        "        return genero\n",
        "\n",
        "    def info_promedio ():\n",
        "        archivo = open(f\"{ruta}/promedio.txt\", \"r\",encoding=\"UTF-8\")\n",
        "        promedio = []\n",
        "        for i in archivo:\n",
        "            promedio.append(float(i.strip()))\n",
        "        return promedio\n",
        "\n",
        "    def info_region ():\n",
        "        archivo = open(f\"{ruta}/region.txt\", \"r\",encoding=\"UTF-8\")\n",
        "        region = []\n",
        "        for i in archivo:\n",
        "            region.append(str(i.strip()))\n",
        "        return region\n",
        "\n",
        "    informacion_edad = info_edad()\n",
        "    informacion_escolaridad = info_escolaridad()\n",
        "    informacion_estado_civil = info_estado_civil()\n",
        "    informacion_estrato = info_estrato()\n",
        "    informacion_genero = info_genero()\n",
        "    informacion_promedio = info_promedio()\n",
        "    informacion_region = info_region()\n",
        "\n",
        "    \n",
        "    datos_finales = []\n",
        "    for i in range(0, id):\n",
        "        datos = {\"id\":(i+1),\n",
        "        \"estrato\": informacion_estrato[i],\n",
        "        \"estado_civil\": informacion_estado_civil[i], \n",
        "        \"edad\": informacion_edad[i], \n",
        "        \"region\" : informacion_region[i], \n",
        "        \"genero\" : informacion_genero[i], \n",
        "        \"escolaridad\": informacion_escolaridad[i], \n",
        "        \"promedio\" : informacion_promedio[i]}\n",
        "        datos_finales.append(datos)\n",
        "        \n",
        "    print(datos_finales)"
      ]
    },
    {
      "cell_type": "markdown",
      "metadata": {
        "id": "RprDQ7ORiAqK"
      },
      "source": [
        "### Misión 2"
      ]
    },
    {
      "cell_type": "markdown",
      "metadata": {
        "id": "HplKeLswiAqL"
      },
      "source": [
        "**Versión base**: calcula estadísticas descriptivas básicas (por lo menos, media/mediana y varianza/desviación) para cada variable relevante en el contexto del problema y repórtalas concluyendo acerca de las principales características de los datos."
      ]
    },
    {
      "cell_type": "markdown",
      "metadata": {
        "id": "MJz9-IvciAqM"
      },
      "source": [
        "**Versión completa**: complementa la **versión base** con visualizaciones informativas sobre los datos (ej., histogramas, gráficos de dispersión, boxplots, etc.), relevantes para el problema."
      ]
    },
    {
      "cell_type": "markdown",
      "source": [
        "from IPython.core import prefilter\n",
        "# Implementa tu respuesta en esta celda\n",
        "def estadistica_descriptiva(lista:list):\n",
        "   #cantidad de datos\n",
        "   cantidad=len(lista)\n",
        "   #promedio de los datos\n",
        "   promedio=sum(lista)/cantidad\n",
        "   #Mediana\n",
        "   lista.sort()#ordenar lista ascendentemente\n",
        "   median=lista[cantidad//2] if(cantidad%2==1) else (lista[cantidad//2]+lista[(cantidad//2)-1]/2                                                  \n",
        "   #varianza es sumar los datos de desviacion y dividirlos entre la cantidad\n",
        "   suma_varianza=0\n",
        "    for i in lista:\n",
        "        sumatoria = (i-promedio)**2\n",
        "        suma_varianza += sumatoria\n",
        "    varianza = suma_varianza / cantidad\n",
        "   #desviacion_estandar-->a la varianza le sacamos la raiz cuadrada\n",
        "   desviacion=[(x -promedio)*2 for x in lista]\n",
        "   #rango(sacar el maximo y el minimo y restarlos)\n",
        "   rango = max(lista) - min(lista)\n",
        "   return cantidad,promedio,median\n",
        "   lista=[2,3,4,5,7,8,9]\n",
        "   estadistica_descriptiva(edad)\n",
        "   def imprimir(valores):\n",
        "    (c,p,m,v,d,r) = valores\n",
        "    print(f\"cantidad de datos = {c}\")\n",
        "    print(f\"promedio = {p}\")\n",
        "    print(f\"median = {m}\")\n",
        "    print(f\"varianza = {v}\")\n",
        "    print(f\"desviacion estandar = {d}\")\n",
        "    print(f\"rango = {r}\")\n",
        "\n",
        "imprimir(estadistica(informacion_edad))\n",
        "imprimir(estadistica(informacion_estrato))\n",
        "imprimir(estadistica(informacion_promedio))\n",
        "\n",
        "   import matplotlib.pyplot as plt\n",
        "   def histograma_edad(lista_edad):\n",
        "     fig, ax=plt.subplot()\n",
        "     div=[10,20,30,40,50,60,70,80,90]\n",
        "     plt.hist(lista_edad,div)\n",
        "     plt.show()\n",
        "   #histograma_edad(edad)\n",
        "\n",
        "   def histograma_edad(lista_edad):\n",
        "    fig, ax=plt.subplots()\n",
        "    div=[10,20,30,40,50,60,70,80,90]\n",
        "    plt.hist(lista_edad,div)\n",
        "    plt.show()\n",
        "#histograma_edad(edad)    \n",
        "\n",
        "def bar_edad(lista_edad):\n",
        "    fig, ax=plt.subplots()\n",
        "    x=[\"10-19\",\"20-29\",\"30-39\",\"40-49\",\"50-59\",\"60-69\",\"70-79\",\"80-90\"]\n",
        "    e1=0\n",
        "    e2=0\n",
        "    e3=0\n",
        "    e4=0\n",
        "    e5=0\n",
        "    e6=0\n",
        "    e7=0\n",
        "    e8=0\n",
        "    for i in lista_edad:\n",
        "        if(i in range(10,20)):\n",
        "            e1=e1+1\n",
        "        elif(i in range(20,30)): \n",
        "            e2=e2+1\n",
        "        elif(i in range(30,40)):\n",
        "            e3=e3+1\n",
        "        elif(i in range(40,50)):\n",
        "            e4=e4+1\n",
        "        elif(i in range(50,60)):\n",
        "            e5=e5+1\n",
        "        elif(i in range(60,70)):\n",
        "            e6=e6+1\n",
        "        elif(i in range(70,80)):\n",
        "            e7=e7+1\n",
        "        elif(i in range(80,91)):\n",
        "            e8=e8+1                           \n",
        "    y=[e1,e2,e3,e4,e5,e6,e7,e8]\n",
        "    edad=ax.bar(x,y,color=\"green\")\n",
        "    ax.set_title(\"Barra de edad\")\n",
        "    ax.set_xlabel(\"Edad\")\n",
        "    ax.set_ylabel(\"Frecuencia\")\n",
        "    ax.grid()\n",
        "    plt.show()        \n",
        "bar_edad(edad)"
      ],
      "metadata": {
        "id": "t9lqmuQfiAqM"
      }
    },
    {
      "cell_type": "markdown",
      "metadata": {
        "id": "rMPIZZr7iAqN"
      },
      "source": [
        "## Referencias"
      ]
    },
    {
      "cell_type": "markdown",
      "metadata": {
        "id": "p6eJtQCOiAqN"
      },
      "source": [
        "* Discriminación Positiva<br>\n",
        "https://es.wikipedia.org/wiki/Discriminaci%C3%B3n_positiva\n",
        "* Análisis de formulación del programa “Ser Pilo Paga”<br>\n",
        "https://repository.urosario.edu.co/handle/10336/12526\n",
        "* La acción afirmativa en la Universidad de los Andes: El caso del programa \"Oportunidades para talentos nacionales\"<br> http://www.scielo.org.co/scielo.php?script=sci_arttext&pid=S0123-885X2004000300005\n",
        "* Acción afirmativa y equidad: un análisis desde la propuesta de Thomas Nagel<br>\n",
        "http://www.scielo.org.mx/scielo.php?script=sci_arttext&pid=S2007-24062016000200049"
      ]
    },
    {
      "cell_type": "markdown",
      "metadata": {
        "id": "xEMHG7Z4iAqO"
      },
      "source": [
        "## Créditos"
      ]
    },
    {
      "cell_type": "markdown",
      "metadata": {
        "id": "jeKQPbE2iAqP"
      },
      "source": [
        "__Autores__: Camilo Hernando Gómez Castro, Alejandro Mantilla Redondo, Diego Alejandro Cely Gómez.\n",
        " \n",
        "__Fecha última actualización__: 11/07/2022"
      ]
    }
  ],
  "metadata": {
    "kernelspec": {
      "display_name": "Python 3.10.3 64-bit",
      "language": "python",
      "name": "python3"
    },
    "language_info": {
      "codemirror_mode": {
        "name": "ipython",
        "version": 3
      },
      "file_extension": ".py",
      "mimetype": "text/x-python",
      "name": "python",
      "nbconvert_exporter": "python",
      "pygments_lexer": "ipython3",
      "version": "3.10.3"
    },
    "vscode": {
      "interpreter": {
        "hash": "8b8193576751691e149fe4b02bd81acb44aebb7039077c15be9d1f0082e2f63d"
      }
    },
    "colab": {
      "provenance": []
    }
  },
  "nbformat": 4,
  "nbformat_minor": 0
}