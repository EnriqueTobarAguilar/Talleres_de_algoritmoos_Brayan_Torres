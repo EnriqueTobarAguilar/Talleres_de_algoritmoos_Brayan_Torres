{
  "cells": [
    {
      "cell_type": "markdown",
      "metadata": {
        "id": "svZa0r16bMoV"
      },
      "source": [
        "<h1 align=\"center\">Taller 06 - Introducción a Listas</h1>"
      ]
    },
    {
      "cell_type": "markdown",
      "metadata": {
        "id": "irVwKxiEbMoX"
      },
      "source": [
        "## Ejercicio 01: Crear una lista\n",
        "\n",
        "Suponga que tenemos los puntos que han hecho en el campeonato de fútbol, cinco equipos colombianos. Escribir un programa que crea una lista, llamada ``puntos_equipos`` que contiene los puntos de junior, panteras, millonarios, nacional y america, en ese orden. Utilice la variables que están en el programa. Luego imprima la lista, usando la función ``print()``."
      ]
    },
    {
      "cell_type": "code",
      "execution_count": null,
      "metadata": {
        "id": "v4LEnX-PbMoY",
        "colab": {
          "base_uri": "https://localhost:8080/"
        },
        "outputId": "f804f0bb-effe-4f1e-ed3e-68c03260c926"
      },
      "outputs": [
        {
          "output_type": "stream",
          "name": "stdout",
          "text": [
            "[47, 27, 3, 18, 23]\n",
            "Prueba superada 😎\n"
          ]
        }
      ],
      "source": [
        "# Las variables con los puntos de los equipos\n",
        "junior = 47\n",
        "panteras = 27\n",
        "millonarios = 3\n",
        "nacional = 18\n",
        "america = 23\n",
        "# TODO: Crear la lista puntos_equipos\n",
        "puntos_equipos=[junior,panteras,millonarios,nacional,america]\n",
        "\n",
        "# TODO: imprimir la lista\n",
        "print(puntos_equipos)\n",
        "\n",
        "# Verificación\n",
        "assert puntos_equipos == [47, 27, 3, 18, 23]\n",
        "print(\"Prueba superada 😎\")"
      ]
    },
    {
      "cell_type": "markdown",
      "metadata": {
        "id": "30WUyWEKbMoa"
      },
      "source": [
        "---"
      ]
    },
    {
      "cell_type": "markdown",
      "metadata": {
        "id": "4y6qUrYQbMob"
      },
      "source": [
        "## Ejercicio 02: Obtener datos de la lista\n",
        "\n",
        "Suponga que tenemos la lista con las edades de varios estudiantes. Escriba instrucciones para llevar a cabos las siguientes tareas:\n",
        "\n",
        "* Imprimir el tamaño o el número de elementos de la lista ``edades``.\n",
        "* Imprimir el segundo elemento de la lista de ``edades`` (debe ser un 11)\n",
        "* Obtener e imprimir el último elemento de la lista de ``edades`` (que debe ser un 9). Use un índice negativo.\n",
        "* Imprimir el elemento que se encuentra en la mitad de la lista (que debe ser un 20).\n",
        "* Usando múltiples índices, guardar en una variable, llamada ``primeros`` los primeros 6 elementos de la lista de ``edades``. Imprima la variable ``primeros``.\n",
        "* Usando múltiples índices, guardar en una variable llamada ``ultimos`` los últimos 4 elementos de la lista de ``eddades``. Imprima la varibale ``ultimos``.\n"
      ]
    },
    {
      "cell_type": "code",
      "execution_count": 6,
      "metadata": {
        "id": "HpBHGePrbMob",
        "colab": {
          "base_uri": "https://localhost:8080/"
        },
        "outputId": "f154545c-e214-4a13-8765-9bdf955849ba"
      },
      "outputs": [
        {
          "output_type": "stream",
          "name": "stdout",
          "text": [
            "tamaño 9\n",
            "elemento 2 11\n",
            "ultimo elemento:  9\n",
            "la mitad de las lista:  20\n",
            "primeros 6 elementos:  [18, 11, 34, 63, 20, 28]\n",
            "los ultimos 4 elementos:  [28, 45, 22, 9]\n",
            "primeros 6 elementos:  [18, 11, 34, 63, 20, 28]\n",
            "primeros 4 elementos:  [28, 45, 22, 9]\n"
          ]
        }
      ],
      "source": [
        "# Tenemos la lista de edades\n",
        "edades = [18, 11, 34, 63, 20, 28, 45, 22, 9]\n",
        "\n",
        "# TODO: Imprimir el tamaño o el número de elementos de la lista edades.\n",
        "print(\"tamaño\",len(edades))\n",
        "# TODO: Imprimir el segundo elemento de la lista de edades (debe ser un 11)\n",
        "print(\"elemento 2\", edades[1])\n",
        "# TODO: Obtener e imprimir el último elemento de la lista de edades (que debe ser un 9). Use un índice negativo.\n",
        "print(\"ultimo elemento: \",edades[-1])\n",
        "# TODO: Imprimir el elemento que se encuentra en la mitad de la lista (que debe ser un 20).\n",
        "mitad_lista=edades[len(edades)//2] if(len(edades)%2==1)else (len(edades)/2+(len(edades)/2-1))/2\n",
        "print(\"la mitad de las lista: \",mitad_lista)\n",
        "# TODO: Usando múltiples índices, guardar en una variable, llamada primeros los primeros 6 elementos de la lista de edades. Imprima la variable primeros.\n",
        "primeros_6=edades[0:6]\n",
        "print(\"primeros 6 elementos: \",primeros_6)\n",
        "# TODO: Usando múltiples índices, guardar en una variable llamada ultimos los últimos 4 elementos de la lista de eddades. Imprima la varibale ultimos.\n",
        "ultimos_4=edades[-4:]\n",
        "print(\"los ultimos 4 elementos: \",ultimos_4)\n",
        "# TODO: Guardar en otra variable ``primeros2`` otra vez los primeros 6 elementos de la lista ``edades``. Esta vez simplifique la escogencia omitiendo el índice inicial\n",
        "primeros2=edades[:6]\n",
        "print(\"primeros 6 elementos: \",primeros2)\n",
        "\n",
        "# TODO: Guardar en otra variable ``ultimos2`` otra vez los últimos 4 elementos de la lista ``edades``. Esta vez simplifique la escogencia omitiendo el índice final\n",
        "ultimos2=edades[-4:]\n",
        "print(\"primeros 4 elementos: \",ultimos2)"
      ]
    },
    {
      "cell_type": "markdown",
      "metadata": {
        "id": "ewLkSTfWbMob"
      },
      "source": [
        "---"
      ]
    },
    {
      "cell_type": "markdown",
      "metadata": {
        "id": "YhPF6V-fbMoc"
      },
      "source": [
        "## Ejercicio 03: Manipulando listas\n",
        "\n",
        "Vamos a realizar el siguiente trabajo para modificar la lista de edades.\n",
        "\n",
        "* Actualice el valor del último elemento de la lista ``edades``. Ya no queremos que sea un ``9`` sino que sea un 19.\n",
        "* Modifique el valor del tercer elemento de la lista de ``edades``. Guardar un 24 en esa posición.\n",
        "* Imprima la lista de edades. Verifique que el tercer elemento sea un 24, y que el último sea un 19.\n",
        "* Agregue los elementos ``21``, ``32`` y ``16`` al final de la lista ``edades``. Imprima el tamaño de la lista y luego imprima la lista.\n",
        "* Elimine el primer elemento de la lista, y luego elimine el quinto elemento de la lista de edades. Imprima la lista y el tamaño de la lista también."
      ]
    },
    {
      "cell_type": "code",
      "execution_count": null,
      "metadata": {
        "id": "-tZKFjhQbMoc",
        "colab": {
          "base_uri": "https://localhost:8080/"
        },
        "outputId": "17587cd7-5fe9-43bb-ee38-ab1911bc7379"
      },
      "outputs": [
        {
          "output_type": "stream",
          "name": "stdout",
          "text": [
            "[18, 11, 34, 63, 20, 28, 45, 22, 19]\n",
            "[18, 11, 24, 63, 20, 28, 45, 22, 19]\n",
            "prueba superada 😘\n",
            "la nueva lista es:  [18, 11, 24, 63, 20, 28, 45, 22, 19, 21, 32, 16]\n",
            "el tamaño de la lista 12\n"
          ]
        }
      ],
      "source": [
        "# TODO: Actualice el valor del último elemento de la lista edades. Ya no queremos que sea un 9 sino que sea un 19.\n",
        "edades[-1]=19\n",
        "print(edades)\n",
        "\n",
        "# TODO: Modifique el valor del tercer elemento de la lista de edades. Guardar un 24 en esa posición.\n",
        "edades[2]=24\n",
        "print(edades)\n",
        "# TODO: Imprima la lista de edades. Verifique que el tercer elemento sea un 24, y que el último sea un 19.\n",
        "assert edades==[18, 11, 24, 63, 20, 28, 45, 22, 19]\n",
        "print(\"prueba superada 😘\")\n",
        "\n",
        "# TODO: Agregue los elementos 21, 32 y 16 al final de la lista edades. Imprima el tamaño de la lista y luego imprima la lista.\n",
        "edades.append(21)\n",
        "edades.append(32)\n",
        "edades.append(16)\n",
        "\n",
        "print(\"la nueva lista es: \",edades)\n",
        "print(\"el tamaño de la lista\",len(edades))\n",
        "# TODO: Elimine el primer elemento de la lista, y luego elimine el quinto elemento de la lista de edades. Imprima la lista y el tamaño de la lista también.\n",
        "\n"
      ]
    },
    {
      "cell_type": "markdown",
      "metadata": {
        "id": "_r7O0ST_bMod"
      },
      "source": [
        "---"
      ]
    },
    {
      "cell_type": "markdown",
      "metadata": {
        "id": "wFbbvqEzbMod"
      },
      "source": [
        "## Ejercicio 04 - Leer una lista de números\n",
        "\n",
        "Escribir un **programa** en Python que lea la edad de $N$ estudiantes del curso, los almacene en una lista de números y luego imprima la lista"
      ]
    },
    {
      "cell_type": "code",
      "execution_count": null,
      "metadata": {
        "id": "jBrsBWHdbMod",
        "colab": {
          "base_uri": "https://localhost:8080/"
        },
        "outputId": "73fff0ad-50d5-43dc-e47b-ac3ffc662948"
      },
      "outputs": [
        {
          "output_type": "stream",
          "name": "stdout",
          "text": [
            "digite numero estudiantes: 3\n",
            "digite edad: 23\n",
            "[23]\n",
            "digite edad: 12\n",
            "[23, 12]\n",
            "digite edad: 32\n",
            "[23, 12, 32]\n"
          ]
        }
      ],
      "source": [
        "# Programa en Python para leer la edad de varios estudiantes. \n",
        "# Vamos a preguntar cuantos estudiantes hay = N.\n",
        "numero_estudiantes=int(input(\"digite numero estudiantes: \"))\n",
        "c=0\n",
        "lista=[]\n",
        "while True:\n",
        "  if(c==numero_estudiantes):\n",
        "    break\n",
        "  c=c+1\n",
        "  edad=int(input(\"digite edad: \"))\n",
        "  lista.append(edad)\n",
        "  print(lista)"
      ]
    },
    {
      "cell_type": "markdown",
      "metadata": {
        "id": "f6S-ynMebMoe"
      },
      "source": [
        "---\n",
        "\n",
        "## Ejercicio 05 - Leer una lista de tuplas\n",
        "\n",
        "Escribir un **Programa** que le pregunte al usuario el nombre de paises y sus capitales, los guarde en un *Par*  o *Tupla*, y luego almacene ese par en una lista. Para finalizar, el nombre del país y el nombre de la capital deben ser vacíos (al tiempo). Imprima la lista una vez finalice la lectura de los datos"
      ]
    },
    {
      "cell_type": "code",
      "execution_count": null,
      "metadata": {
        "id": "g8dwGSnobMoe",
        "colab": {
          "base_uri": "https://localhost:8080/"
        },
        "outputId": "2c6defa6-6da2-4c3b-e4a3-b4f8d917d3ca"
      },
      "outputs": [
        {
          "name": "stdout",
          "output_type": "stream",
          "text": [
            "Digite PAIS: francia\n",
            "Digite capitalparis\n",
            "[('francia', 'paris')]\n",
            "Digite PAIS: italia\n",
            "Digite capitalroma\n",
            "[('francia', 'paris'), ('italia', 'roma')]\n",
            "Digite PAIS: \n",
            "Digite capital\n"
          ]
        }
      ],
      "source": [
        "# Programa en Python para leer paises y capitales. Vamos a preguntar cuantos paises leer.\n",
        "paises_capitales=[]\n",
        "while True:\n",
        "  pais=input(\"Digite PAIS: \")\n",
        "  capital=input(\"Digite capital\")\n",
        "  if(pais==\"\" and capital==\"\"):\n",
        "    break\n",
        "  tupla=(pais,capital)\n",
        "  paises_capitales.append(tupla)\n",
        "  print(paises_capitales)"
      ]
    },
    {
      "cell_type": "markdown",
      "metadata": {
        "id": "EbkEj8DzbMoe"
      },
      "source": [
        "---\n",
        "\n",
        "## Ejercicio 06 \n",
        "\n",
        "Escribir un Programa en Python que le pregunte a un usuario el nombre, carrera y promedio en la carrera, de varios estudiantes de la universidad, almacene cada uno de esos tres datos en una tupla, y luego guarde la tupla en una lista. Al final, imprima la lista. Use un while para saber si debemos seguir o no en la lectura de los datos."
      ]
    },
    {
      "cell_type": "code",
      "execution_count": 1,
      "metadata": {
        "id": "mhfK-n60bMof",
        "colab": {
          "base_uri": "https://localhost:8080/"
        },
        "outputId": "2c39632b-46de-4312-9016-893f4c6b3c2f"
      },
      "outputs": [
        {
          "output_type": "stream",
          "name": "stdout",
          "text": [
            "ingrese el nombre del estudiante: enrique\n",
            "ingrese la carrera del estudiante: produccion\n",
            "ingrese el promedio: 72\n",
            "¿quiere continuar? si-nono\n",
            "[('enrique', 'produccion', 72.0)]\n"
          ]
        }
      ],
      "source": [
        "# Programa en Python para leer información de varios estudiantes. Use un while para saber si seguimos la lectura o no\n",
        "estudiantes=[]\n",
        "desicion=\"si\"\n",
        "while True:\n",
        "  if desicion==\"no\":\n",
        "    break\n",
        "  nombre=input(\"ingrese el nombre del estudiante: \")\n",
        "  carrera=input(\"ingrese la carrera del estudiante: \")\n",
        "  promedio=float(input(\"ingrese el promedio: \"))\n",
        "  datos=(nombre,carrera,promedio)\n",
        "  estudiantes.append(datos)\n",
        "  desicion=input(\"¿quiere continuar? si-no\")\n",
        "print(estudiantes)"
      ]
    },
    {
      "cell_type": "markdown",
      "metadata": {
        "id": "SX2wZ6xXbMof"
      },
      "source": [
        "---\n",
        "\n",
        "## Ejercicio 07 - Contar de una lista \n",
        "\n",
        "Escriba una **función** en Python que reciba una lista de números ```float``` que representa los promedios de temperatura en Bogotá en los últimos días, y que retorne cuántas de esas temperaturas están entre los 15 y los 20 grados centígrados."
      ]
    },
    {
      "cell_type": "code",
      "execution_count": null,
      "metadata": {
        "id": "OMfvbRVqbMof",
        "colab": {
          "base_uri": "https://localhost:8080/"
        },
        "outputId": "c2008abe-82a9-4c70-b918-97e5e5d3aea0"
      },
      "outputs": [
        {
          "output_type": "stream",
          "name": "stdout",
          "text": [
            "Prueba superada 💪🏽\n"
          ]
        }
      ],
      "source": [
        "# Función que cuenta en una lista\n",
        "def contar_temperaturas(temps: [float]) -> int:\n",
        "  conteo=0\n",
        "  i=0\n",
        "  while i <= len(temps)-1:\n",
        "    if temps[i]>=15 and temps[i]<=20:\n",
        "      conteo=conteo+1\n",
        "    i=i+1\n",
        "  return conteo\n",
        "\n",
        "# Pruebas de la función anterior\n",
        "assert contar_temperaturas([11, 18, 23.5, 19.5, 6, 16.3, 22.1, 4.6, 18.9, 18.6, 15.1, 16.1, 19.9, 1.5, 12, 21.7]) == 8\n",
        "print(\"Prueba superada 💪🏽\")"
      ]
    },
    {
      "cell_type": "markdown",
      "metadata": {
        "id": "3Q2V-oj3bMof"
      },
      "source": [
        "---\n",
        "\n",
        "## Ejercicio 08\n",
        "\n",
        "Escriba una **función** en Python que reciba una lista de números enteros que representan la edad de los diversos compañeros del curso, y que calcule y retorne cuántos de esos compañeros son menores de edad, es decir, cuántas edades son inferiores a 18 años."
      ]
    },
    {
      "cell_type": "code",
      "execution_count": null,
      "metadata": {
        "id": "K6R15n6HbMof",
        "colab": {
          "base_uri": "https://localhost:8080/"
        },
        "outputId": "3d54a24b-6d88-4a35-900e-092646c16c02"
      },
      "outputs": [
        {
          "output_type": "stream",
          "name": "stdout",
          "text": [
            "Prueba superada 💪🏽\n"
          ]
        }
      ],
      "source": [
        "# Función que cuenta los menores de edad en una lista de edades\n",
        "def ejercicio08(lista_edades:[int]) -> int:\n",
        "  conteo=0\n",
        "  i=0\n",
        "  while i <= len(lista_edades)-1:\n",
        "    if lista_edades[i] <18:\n",
        "      conteo=conteo+1\n",
        "    i=i+1\n",
        "  return conteo\n",
        "\n",
        "# Pruebas de la función anterior\n",
        "assert ejercicio08([23, 31, 16, 11, 21, 18, 34, 45, 17, 16, 32, 43, 20, 19, 18, 16, 14, 33]) == 6\n",
        "print(\"Prueba superada 💪🏽\")"
      ]
    },
    {
      "cell_type": "markdown",
      "metadata": {
        "id": "fpt_tnokbMog"
      },
      "source": [
        "---\n",
        "\n",
        "## Ejercicio 09\n",
        "\n",
        "SEn Python, resulta que una palabra es una lista de letras. A partir de esto, escriba una **función** en Python que cuente en esa lista de letras cuántas vocales en minúsculas hay en la lista.\n"
      ]
    },
    {
      "cell_type": "code",
      "execution_count": null,
      "metadata": {
        "id": "XjktPZwkbMog",
        "colab": {
          "base_uri": "https://localhost:8080/"
        },
        "outputId": "80a2e4c6-ea86-4723-bc06-737d12596eac"
      },
      "outputs": [
        {
          "output_type": "stream",
          "name": "stdout",
          "text": [
            "Prueba superada 💪🏽\n"
          ]
        }
      ],
      "source": [
        "# Función que cuenta las vocales en una palabra\n",
        "def ejercicio09(palabra: str) -> int:\n",
        "  conteo=0\n",
        "  for i in range(0,len(palabra)):\n",
        "    if palabra[i]==\"a\":\n",
        "      conteo=conteo+1\n",
        "    elif palabra[i]==\"e\":\n",
        "      conteo=conteo+1\n",
        "    elif palabra[i]==\"i\":\n",
        "      conteo=conteo+1\n",
        "    elif palabra[i]==\"o\":\n",
        "      conteo=conteo+1\n",
        "    elif palabra[i]==\"u\":\n",
        "      conteo=conteo+1\n",
        "  return conteo\n",
        "# Pruebas de la función anterior\n",
        "assert (ejercicio09(\"Lorem ipsum dolor sit Amet, consectetur adipiscing elit\")) == 18\n",
        "assert (ejercicio09(\"Ut enim ad minima veniam, quis nostrum exercitationem ullam corporis\")) == 25\n",
        "print(\"Prueba superada 💪🏽\")"
      ]
    },
    {
      "cell_type": "markdown",
      "metadata": {
        "id": "p10Xz2gebMog"
      },
      "source": [
        "---\n",
        "\n",
        "## Ejercicio 10\n",
        "\n",
        "Escriba una función en Python que reciba una lista de números enteros positivos, y que retorne cuántos de los números de la lista son múltiplos de 2, 3 y 5 al mismo tiempo."
      ]
    },
    {
      "cell_type": "code",
      "execution_count": null,
      "metadata": {
        "id": "E47Dy2PTbMog",
        "colab": {
          "base_uri": "https://localhost:8080/"
        },
        "outputId": "2f793eb4-1bed-4627-95af-33a4624c59f2"
      },
      "outputs": [
        {
          "output_type": "stream",
          "name": "stdout",
          "text": [
            "Prueba superada 💪🏽\n"
          ]
        }
      ],
      "source": [
        "# Función que cuenta los múltiplos\n",
        "def ejercicio10(numeros: [int]) -> int:\n",
        "  conteo=0\n",
        "  for i in range(0, len (numeros)):\n",
        "    if (numeros[i]%3==0 and numeros[i]%2==0 and numeros[i]%5==0):\n",
        "      conteo=conteo+1\n",
        "  return conteo\n",
        "# Pruebas para la función anterior\n",
        "assert (ejercicio10([5, 10, 30, 25, 24, 60, 12, 100, 120, 15, 90, 95, 36, 35, 72, 180])) == 5\n",
        "print(\"Prueba superada 💪🏽\")"
      ]
    },
    {
      "cell_type": "markdown",
      "metadata": {
        "id": "Y57WAmMlbMoh"
      },
      "source": [
        "---\n",
        "\n",
        "## Ejercicio 11 - Múltiples contadores\n",
        "\n",
        "Escriba una función en Python que reciba una lista con los nombre de los perros de mis vecinos, y que retorne cuántos perros de la lista se llaman ```\"fifi\"``` y cuantos se llaman ```\"mateo\"```. **OJO: Son dos contadores diferentes**."
      ]
    },
    {
      "cell_type": "code",
      "execution_count": null,
      "metadata": {
        "id": "GFo24Q99bMoh",
        "colab": {
          "base_uri": "https://localhost:8080/"
        },
        "outputId": "a8587a75-aaff-4305-aec8-fc1f57634394"
      },
      "outputs": [
        {
          "output_type": "stream",
          "name": "stdout",
          "text": [
            "Prueba superada 💪🏽\n"
          ]
        }
      ],
      "source": [
        "# Función que cuenta el número de perros\n",
        "def ejercicio11(perros: [str]) -> (int, int):\n",
        "  conteo_fifi=0\n",
        "  conteo_mateo=0\n",
        "  for i in range(0,len(perros)):\n",
        "    if perros[i]==\"fifi\":\n",
        "      conteo_fifi+=1\n",
        "    elif perros[i]==\"mateo\":\n",
        "      conteo_mateo+=1\n",
        "  return conteo_fifi,conteo_mateo\n",
        "# Prueba de la función anterior\n",
        "assert (ejercicio11([\"lila\", \"firulais\", \"romeo\", \"fifi\", \"neron\", \"milagro\", \"fifi\", \"lila\", \"cariño\", \"rosa\", \"fifi\", \"mateo\", \"rex\"])) == (3,1)\n",
        "print(\"Prueba superada 💪🏽\")"
      ]
    },
    {
      "cell_type": "markdown",
      "metadata": {
        "id": "S5nX-Km-bMoi"
      },
      "source": [
        "---\n",
        "\n",
        "## Ejercicio 12 - Contar en listas de tuplas\n",
        "\n",
        "En una tupla de dos elementos hemos almacenado el resultado de cada uno de los partidos que ha jugado el Junior de Barranquilla. El primer elemento es la cantidad de goles que hizo el equipo en el partido, y el segundo elemento corresponde a los goles que le hicieron al equipo en el partido. Escriba una función que reciba esta lista de tuplas con los resultados de los partidos, y que retorne cuántos partidos ganó en total, cuántos empató y cuántos perdió."
      ]
    },
    {
      "cell_type": "code",
      "execution_count": null,
      "metadata": {
        "id": "tL4YTpS2bMoi",
        "colab": {
          "base_uri": "https://localhost:8080/"
        },
        "outputId": "fc6e4597-1f9d-4110-c4a3-ee0edecd42e1"
      },
      "outputs": [
        {
          "output_type": "stream",
          "name": "stdout",
          "text": [
            "Prueba superada 💪🏽\n"
          ]
        }
      ],
      "source": [
        "# Función para contar partidos\n",
        "def resultados_partidos(partidos:[(int, int)]) -> (int, int, int):\n",
        "    gano=0\n",
        "    empato=0\n",
        "    perdio=0\n",
        "    for x,y in partidos:\n",
        "      if(x==y):\n",
        "        empato+=1\n",
        "      if(x>y):\n",
        "        gano=gano+1\n",
        "      if(y>x):\n",
        "        perdio+=1\n",
        "    return gano,empato,perdio\n",
        "\n",
        "# prueba de la función anterior\n",
        "assert (resultados_partidos([(1, 3), (0, 0), (4, 0), (5, 3), (2, 2), (4, 3), (1, 0), (1, 2), (0, 0), (3, 2), (3, 1), (7, 0), (0, 2), (3, 3), (4, 2), (3, 4)])) == (8, 4, 4)\n",
        "print(\"Prueba superada 💪🏽\")"
      ]
    },
    {
      "cell_type": "markdown",
      "metadata": {
        "id": "J_vW5IaLbMoi"
      },
      "source": [
        "---\n",
        "\n",
        "# Ejercicio 13\n",
        "\n",
        "La información de los salarios de una empresa se almacena en una tupla de 3 elementos, de la siguiente manera:\n",
        "\n",
        "* El primer elemento es el cargo del empleado\n",
        "* El segundo elemento de la tupla es la edad del empleado\n",
        "* El tercer elemento de la tupla es el sueldo del empleado\n",
        "\n",
        "Escriba una función en Python que reciba esta lista de tuplas con la información de los empleados, y que retorne cuántos empleados que tienen un cargo de gerente o contador, tienen entre 45 y 50 años, pero ganan menos de dos millones de pesos."
      ]
    },
    {
      "cell_type": "code",
      "execution_count": null,
      "metadata": {
        "id": "ZLwVYvO6bMoj",
        "colab": {
          "base_uri": "https://localhost:8080/"
        },
        "outputId": "9585cbd1-dfce-48b2-9298-d83d1bc2c779"
      },
      "outputs": [
        {
          "output_type": "stream",
          "name": "stdout",
          "text": [
            "Prueba superada 💪🏽\n"
          ]
        }
      ],
      "source": [
        "# Función para resolver el ejercicio 13\n",
        "def ejercicio13(empleados: [(str, int, float)]) -> int:\n",
        "    contador=0\n",
        "    for c,e,s in empleados:\n",
        "      if(c==\"gerente\" or c==\"contador\" and e in range(45,51) and s<2_000_000):\n",
        "        contador=contador+1\n",
        "    return contador\n",
        "\n",
        "# Pruebas de la función anterior\n",
        "assert (ejercicio13([(\"director\", 38, 1500000), (\"gerente\", 47, 1_450_000), (\"celador\", 63, 700_000), (\"director\", 29, 2_700_000),\n",
        "                    (\"contador\", 51, 1_900_000), (\"contador\", 49, 1_900_000), (\"analista\", 23, 11_200_000), (\"gerente\", 46, 1_200_000),\n",
        "                    (\"contador\", 39, 2_100_000), (\"profesional\", 36, 2_100_000), (\"gerente\", 45, 1_050_000), (\"contador\", 46, 800_000)])) == 5\n",
        "print(\"Prueba superada 💪🏽\")  "
      ]
    },
    {
      "cell_type": "markdown",
      "metadata": {
        "id": "tfVx2BWbbMoj"
      },
      "source": [
        "---\n",
        "\n",
        "# Ejercicio 14\n",
        "\n",
        "Un estudiante registra toda su historia académica en una lista de tuplas con la siguiente conformación:\n",
        "\n",
        "* El primer elemento es el nombre de la unidad de estudio\n",
        "* El segundo elemento es número de créditos de la unidad de estudio\n",
        "* El tercer elemento es el semestre al que pertenece esa unidad de estudio\n",
        "* El cuarto y quinto elemento son las notas del primer corte y segundo corte de la unidad de estudios\n",
        "\n",
        "Sabiendo que para obtener la nota final de una unidad de estudios debemos tener en cuenta que el primer corte pesa el 40% de la nota final, y el segundo corte pesa el 60% de la nota, escriba una función que reciba esta lista con las notas del estudiante y que retorne cuántas unidades de estudio perdió el estudiante."
      ]
    },
    {
      "cell_type": "code",
      "execution_count": null,
      "metadata": {
        "id": "xOtABZ4JbMoj",
        "colab": {
          "base_uri": "https://localhost:8080/"
        },
        "outputId": "c634cac1-b573-4c53-9379-7c11b125e6b8"
      },
      "outputs": [
        {
          "output_type": "stream",
          "name": "stdout",
          "text": [
            "Prueba superada 💪🏽\n"
          ]
        }
      ],
      "source": [
        "# Función para resolver el Ejercicio 14: Completar los datos de entrada\n",
        "def ejercicio14(materias:[()]) -> int:\n",
        "    perdio=0\n",
        "    for n,c,semestre,primer,segundo in materias:\n",
        "      if((primer*0.40+segundo*0.60)<60):\n",
        "        perdio=perdio+1\n",
        "    return perdio\n",
        "\n",
        "# Pruebas para la función anterior\n",
        "assert (ejercicio14([(\"calculo\", 6, 1, 45, 67), (\"frances\", 3, 2, 77, 89), (\"calculo\", 6, 1, 72, 58), (\"ecuaciones\", 3, 4, 68, 61),\n",
        "                    (\"ingles basico\", 3, 2, 79, 85), (\"quimica\", 4, 1, 88, 92), (\"fisica\", 3, 2, 56,61), (\"procesos\", 3, 4, 75, 77),\n",
        "                    (\"cultura\", 2, 3, 33, 21), (\"deportes\", 2, 1, 98, 90), (\"cocina\", 3, 4, 79, 98), (\"estadistica\", 3, 4, 53, 10)])) == 4\n",
        "\n",
        "print(\"Prueba superada 💪🏽\") "
      ]
    },
    {
      "cell_type": "markdown",
      "metadata": {
        "id": "yrHlb7OsbMok"
      },
      "source": [
        "---\n",
        "\n",
        "# Ejercicio 15\n",
        "\n",
        "La información sobre todos los contagiados de Coronavirus son almacenados en una tupla con la siguiente coformación:\n",
        "\n",
        "* El primer elemento de la tupla es el género del contagiado ('M' = masculino, y 'F' = femenino)\n",
        "* El segundo elemento es la edad del contagiado\n",
        "* El tercer elemento de la tupla es cuantos días lleva contagiado\n",
        "* El cuarto elemento es si el contagiado falleció o no (True == si falleció, False == no falleció)\n",
        "\n",
        "Escriba una función en Python que reciba una lista con estas tuplas que representan la información de los contagiados y que retorne cuántas mujeres mayores de 60 años han fallecido y cuántos menores de edad tienen más de una semana de haber sido contagiados."
      ]
    },
    {
      "cell_type": "code",
      "execution_count": null,
      "metadata": {
        "id": "DKh7AHUsbMok",
        "colab": {
          "base_uri": "https://localhost:8080/"
        },
        "outputId": "1c84593c-1fde-4c66-942a-25fa49e8e182"
      },
      "outputs": [
        {
          "output_type": "stream",
          "name": "stdout",
          "text": [
            "Prueba superada 💪🏽\n"
          ]
        }
      ],
      "source": [
        "# Función para resolver el Ejercicio 15\n",
        "def ejercicio15(contagiados: [(str,int,int,bool)]) -> (int,int):\n",
        "  conteo1=0\n",
        "  conteo2=0\n",
        "  for x,y,z,i in contagiados:\n",
        "    if (x==\"F\" and y>=60 and i==True):\n",
        "      conteo1+=1\n",
        "    if (y<18 and z>=8):\n",
        "      conteo2+=1\n",
        "  return conteo1,conteo2\n",
        "\n",
        "# Pruebas de la función anterior\n",
        "assert (ejercicio15([('M', 23, 12, False), ('M', 45, 3, False), ('M', 72, 6, True), ('F', 81, 11, True), ('M', 11, 12, False), ('M', 17, 8, True),\n",
        "                     ('F', 77, 3, True), ('M', 67, 4, False), ('F', 61, 5, True), ('M', 14, 28, False), ('M', 44, 11, True), ('M', 6, 3, False),\n",
        "                     ('M', 28, 19, False), ('F', 91, 10, True)])) == (4, 3)\n",
        "print(\"Prueba superada 💪🏽\")"
      ]
    },
    {
      "cell_type": "markdown",
      "metadata": {
        "id": "ejNsZlafbMok"
      },
      "source": [
        "---\n",
        "\n",
        "# Ejercicio 16\n",
        "\n",
        "Seguimos trabajando con la lista de contagiados presentada anteriormente. Escriba una función que permita saber cuantos fallecido hay de cada género, es decir, cuántas mujeres han fallecido y cuántos hombres han fallecido."
      ]
    },
    {
      "cell_type": "code",
      "execution_count": null,
      "metadata": {
        "id": "GN9aZMI3bMol",
        "colab": {
          "base_uri": "https://localhost:8080/"
        },
        "outputId": "cebc299b-3dce-420f-9283-1cc9c03dcb8b"
      },
      "outputs": [
        {
          "output_type": "stream",
          "name": "stdout",
          "text": [
            "Prueba superada 💪🏽\n"
          ]
        }
      ],
      "source": [
        "# Función para resolver el ejercicio 16\n",
        "def ejercicio16(contagiados: [(str,int,int,bool)]) -> (int, int):\n",
        "    conteo1=0\n",
        "    conteo2=0\n",
        "    for x,y,z,i in contagiados:\n",
        "      if (x==\"F\" and i==True):\n",
        "        conteo1+=1\n",
        "      if (x==\"M\" and i==True):\n",
        "        conteo2+=1\n",
        "    return conteo1,conteo2\n",
        "# Pruebas de la función anterior\n",
        "assert (ejercicio16([('M', 23, 12, False), ('M', 45, 3, False), ('M', 72, 6, True), ('F', 81, 11, True), ('M', 11, 12, False), ('M', 17, 8, True),\n",
        "                   ('F', 77, 3, True), ('M', 67, 4, False), ('F', 61, 5, True), ('M', 14, 28, False), ('M', 44, 11, True), ('M', 6, 3, False),\n",
        "                    ('M', 28, 19, False), ('F', 91, 10, True), ('F', 72, 6, True)])) == (5, 3)\n",
        "print(\"Prueba superada 💪🏽\")   "
      ]
    },
    {
      "cell_type": "markdown",
      "metadata": {
        "id": "aoQi0iSAbMol"
      },
      "source": [
        "---\n",
        "\n",
        "## Ejercicio 17\n",
        "\n",
        "Seguimos trabajando con la lista de contagiados. Ahora queremos saber cuántas personas que no han fallecido tienen entre 20 y 30 años de edad."
      ]
    },
    {
      "cell_type": "code",
      "execution_count": null,
      "metadata": {
        "id": "Wen5WsmZbMol",
        "colab": {
          "base_uri": "https://localhost:8080/"
        },
        "outputId": "5675cd13-65c1-4592-88b7-baad8b430806"
      },
      "outputs": [
        {
          "output_type": "stream",
          "name": "stdout",
          "text": [
            "Prueba superada 💪🏽\n"
          ]
        }
      ],
      "source": [
        "# Función para resolver el ejercicio 17\n",
        "def ejercicio17(contagiados: [(str,int,int,bool)]) -> int:\n",
        "  conteo=0\n",
        "  for x,y,z,i in contagiados:\n",
        "    if (y>=20 and y<=30 and i==False):\n",
        "      conteo+=1\n",
        "  return conteo\n",
        "\n",
        "# Pruebas de la función anterior\n",
        "assert (ejercicio17([('M', 23, 12, False), ('M', 45, 3, False), ('M', 72, 6, True), ('F', 81, 11, True), ('M', 11, 12, False), ('M', 17, 8, True),\n",
        "                   ('F', 77, 3, True), ('M', 67, 4, False), ('F', 61, 5, True), ('M', 14, 28, False), ('M', 44, 11, True), ('M', 6, 3, False),\n",
        "                    ('M', 28, 19, False), ('F', 91, 10, True), ('F', 72, 6, True), ('F', 26, 5, False)])) == 3\n",
        "print(\"Prueba superada 💪🏽\")   "
      ]
    }
  ],
  "metadata": {
    "colab": {
      "name": "Taller_06 Resuelto.ipynb",
      "provenance": [],
      "collapsed_sections": []
    },
    "kernelspec": {
      "display_name": "Python 3",
      "language": "python",
      "name": "python3"
    },
    "language_info": {
      "codemirror_mode": {
        "name": "ipython",
        "version": 3
      },
      "file_extension": ".py",
      "mimetype": "text/x-python",
      "name": "python",
      "nbconvert_exporter": "python",
      "pygments_lexer": "ipython3",
      "version": "3.10.1"
    }
  },
  "nbformat": 4,
  "nbformat_minor": 0
}